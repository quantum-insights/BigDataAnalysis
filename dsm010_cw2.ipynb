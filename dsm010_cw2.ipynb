{
 "cells": [
  {
   "cell_type": "markdown",
   "metadata": {},
   "source": [
    "# DSM010 Big Data  - Coursework 2: \"Flight Delays\""
   ]
  },
  {
   "cell_type": "markdown",
   "metadata": {},
   "source": [
    "# Introduction\n",
    "\n",
    "For centuries, people have looked at the birds in the sky and wished to fly like a bird. The first flight by humanity was in 1783 in a hot air balloon. Attempts at flight, however, go back much further in time. This is also reflected in mystical stories, such as the Greek legend of Icarus and Daedalus, or King Kaj Kaoos of Persia who attached eagles to his throne and flew around his kingdom [1]. Nowadays, people still dream of flying. However, the dream is more about the longing for the next holiday trip and the experiences and feelings associated with it. Flying has become a part of our everyday lives and is omnipresent in the sky simply because of the various flying machines. Flying is no longer a vague subject. It is one of the safest means of travelling long distances. According to IATA (International Air Transportation Association), it is the safest way to travel long distances. The fatal accident rate is 0.28% per 1 million flights. This means that there is one fatal accident per 4.2 million flights [2]. To put this into relation with current figures: in 2020 (Pre-Covid) there were 40.3 million flights. During the pandemic annual flights declined by roughly 60% and are still recovering [3]. Looking at all this numbers it is obvious that taking a flight is safe and a crucial part of live. Independently from holiday or business trips. Still, going by plane is a exciting thing and based on personal experience it is very stressful if all the planning around a flight is disturbed by a delayed flight. This proposal deals with flight delays and aims to answer the question of whether there is a pattern behind delays and whether delays can be predicted on the basis of various criteria."
   ]
  },
  {
   "cell_type": "markdown",
   "metadata": {},
   "source": [
    "Before this coursework is dedicated to the hypotheses, the data should first be loaded into the PySpark session to get a first impression. "
   ]
  },
  {
   "cell_type": "markdown",
   "metadata": {},
   "source": [
    "# Loading the Data"
   ]
  },
  {
   "cell_type": "markdown",
   "metadata": {},
   "source": [
    "The datasets used here can be downloaded from the following link: https://www.kaggle.com/datasets/arvindnagaonkar/flight-delay"
   ]
  },
  {
   "cell_type": "markdown",
   "metadata": {},
   "source": [
    "Before the data can be loaded and analysed, the data set has been downloaded to the local machine. I will discuss the data sources and the data itself later in the paper.\n",
    "\n",
    "After the data was stored locally, it was transferred to the remote machine using an ssh command. The following command was executed:"
   ]
  },
  {
   "cell_type": "code",
   "execution_count": null,
   "metadata": {},
   "outputs": [],
   "source": [
    "# scp -r ./data psuff001@lena.doc.gold.ac.uk:./cw2"
   ]
  },
  {
   "attachments": {
    "image-2.png": {
     "image/png": "[encoded data removed]"
    }
   },
   "cell_type": "markdown",
   "metadata": {},
   "source": [
    "With this command, all files in the folder \"data\" were loaded from the local machine to the corresponding remote machine.\n",
    "\n",
    "![image-2.png](attachment:image-2.png)\n",
    "\n",
    "The data from the remote machine was then loaded into the hadoop cluster. The following command was used for this:"
   ]
  },
  {
   "cell_type": "code",
   "execution_count": 95,
   "metadata": {},
   "outputs": [],
   "source": [
    "# hadoop fs -copyFromLocal ./cw2/Flight_Delay.parquet ./cw2/data/fligh_delay.parquet"
   ]
  },
  {
   "attachments": {
    "image-2.png": {
     "image/png": "[encoded data removed]"
    }
   },
   "cell_type": "markdown",
   "metadata": {},
   "source": [
    "After executing the above command, the datasets were available in the folder cw2/data.\n",
    "\n",
    "![image-2.png](attachment:image-2.png)\n",
    "\n",
    "\n",
    "This meant that the data was available for further processing and analysis using Spark."
   ]
  },
  {
   "cell_type": "markdown",
   "metadata": {},
   "source": [
    "# Setting Up the Environment"
   ]
  },
  {
   "cell_type": "code",
   "execution_count": 96,
   "metadata": {},
   "outputs": [],
   "source": [
    "# Import Sparksession\n",
    "from pyspark.sql import SparkSession"
   ]
  },
  {
   "cell_type": "code",
   "execution_count": 97,
   "metadata": {},
   "outputs": [],
   "source": [
    "# Create new spark session\n",
    "spark_session = SparkSession.builder.appName('cw2').master('yarn').getOrCreate()"
   ]
  },
  {
   "cell_type": "code",
   "execution_count": 98,
   "metadata": {},
   "outputs": [
    {
     "name": "stdout",
     "output_type": "stream",
     "text": [
      "<pyspark.sql.session.SparkSession object at 0x7f7755a67580>\n"
     ]
    }
   ],
   "source": [
    "# print the current spark session\n",
    "print(spark_session)"
   ]
  },
  {
   "cell_type": "code",
   "execution_count": 99,
   "metadata": {},
   "outputs": [
    {
     "name": "stdout",
     "output_type": "stream",
     "text": [
      "[]\n"
     ]
    }
   ],
   "source": [
    "# print tables in the catalog\n",
    "print(spark_session.catalog.listTables())"
   ]
  },
  {
   "cell_type": "markdown",
   "metadata": {},
   "source": [
    "## Loading the files\n",
    "\n",
    "At this point it must be taken into account that the dataset comes with two files. One dataset is close to the original state. The other dataset contains additional properties. I will load both datasets at the beginning and include them. In the end, however, only the dataset close to the original data will be used for the further steps."
   ]
  },
  {
   "cell_type": "code",
   "execution_count": 101,
   "metadata": {},
   "outputs": [],
   "source": [
    "# Define variable for file path\n",
    "file_path = 'hdfs:///user/psuff001/cw2/data/Flight_Delay.parquet'\n",
    "file_path_features_added= 'hdfs:///user/psuff001/cw2/data/features_added.parquet'"
   ]
  },
  {
   "cell_type": "code",
   "execution_count": 102,
   "metadata": {},
   "outputs": [
    {
     "name": "stdout",
     "output_type": "stream",
     "text": [
      "Time needed to load dataset 1.1987321376800537 in seconds\n"
     ]
    }
   ],
   "source": [
    "# Import library to measure time\n",
    "import time\n",
    "\n",
    "# capture start time\n",
    "start_time= time.time()\n",
    "\n",
    "# Load parquet file from HDFS using the defined file path\n",
    "df_flights = spark_session.read.parquet(file_path)\n",
    "df_features_added = spark_session.read.parquet(file_path_features_added)\n",
    "\n",
    "# capture endtime \n",
    "end_time= time.time()\n",
    "\n",
    "# print the time needed to execution => This was done to give my fellow students a reference for the loading time of data\n",
    "print(f'Time needed to load dataset {end_time - start_time} in seconds')"
   ]
  },
  {
   "cell_type": "code",
   "execution_count": 103,
   "metadata": {},
   "outputs": [
    {
     "name": "stdout",
     "output_type": "stream",
     "text": [
      "+----+-----+----------+----------+-------------------------+--------------+--------------+----------+-------+--------+---------------+-------+---------+--------+------+----------+-------+--------+---------------+--------------+-----------------+-------+--------+-------------+------------+------------+--------+-------------+-----------------+-----------------+\n",
      "|Year|Month|DayofMonth|FlightDate|Marketing_Airline_Network|OriginCityName|  DestCityName|CRSDepTime|DepTime|DepDelay|DepDelayMinutes|TaxiOut|WheelsOff|WheelsOn|TaxiIn|CRSArrTime|ArrTime|ArrDelay|ArrDelayMinutes|CRSElapsedTime|ActualElapsedTime|AirTime|Distance|DistanceGroup|CarrierDelay|WeatherDelay|NASDelay|SecurityDelay|LateAircraftDelay|__index_level_0__|\n",
      "+----+-----+----------+----------+-------------------------+--------------+--------------+----------+-------+--------+---------------+-------+---------+--------+------+----------+-------+--------+---------------+--------------+-----------------+-------+--------+-------------+------------+------------+--------+-------------+-----------------+-----------------+\n",
      "|2018|    1|        15|2018-01-15|                       UA|    Newark, NJ|Charleston, SC|      1845| 1928.0|    43.0|           43.0|   35.0|   2003.0|  2145.0|   4.0|      2108| 2149.0|    41.0|           41.0|         143.0|            141.0|  102.0|   628.0|            3|        41.0|         0.0|     0.0|          0.0|              0.0|                1|\n",
      "|2018|    1|        16|2018-01-16|                       UA|    Newark, NJ|Charleston, SC|      1835| 1956.0|    81.0|           81.0|   18.0|   2014.0|  2202.0|   5.0|      2058| 2207.0|    69.0|           69.0|         143.0|            131.0|  108.0|   628.0|            3|        67.0|         0.0|     0.0|          0.0|              2.0|                2|\n",
      "|2018|    1|        17|2018-01-17|                       UA|    Newark, NJ|Charleston, SC|      1835| 1836.0|     1.0|            1.0|   19.0|   1855.0|  2048.0|   6.0|      2058| 2054.0|    -4.0|            0.0|         143.0|            138.0|  113.0|   628.0|            3|         0.0|         0.0|     0.0|          0.0|              0.0|                3|\n",
      "|2018|    1|        18|2018-01-18|                       UA|    Newark, NJ|Charleston, SC|      1845| 1844.0|    -1.0|            0.0|   36.0|   1920.0|  2052.0|   6.0|      2108| 2058.0|   -10.0|            0.0|         143.0|            134.0|   92.0|   628.0|            3|         0.0|         0.0|     0.0|          0.0|              0.0|                4|\n",
      "|2018|    1|        20|2018-01-20|                       UA|    Newark, NJ|Charleston, SC|      1835| 1829.0|    -6.0|            0.0|   22.0|   1851.0|  2020.0|   6.0|      2058| 2026.0|   -32.0|            0.0|         143.0|            117.0|   89.0|   628.0|            3|         0.0|         0.0|     0.0|          0.0|              0.0|                6|\n",
      "+----+-----+----------+----------+-------------------------+--------------+--------------+----------+-------+--------+---------------+-------+---------+--------+------+----------+-------+--------+---------------+--------------+-----------------+-------+--------+-------------+------------+------------+--------+-------------+-----------------+-----------------+\n",
      "only showing top 5 rows\n",
      "\n"
     ]
    }
   ],
   "source": [
    "# Show first five records of dataframe\n",
    "df_flights.show(5)"
   ]
  },
  {
   "cell_type": "code",
   "execution_count": 8,
   "metadata": {},
   "outputs": [
    {
     "name": "stdout",
     "output_type": "stream",
     "text": [
      "+----+-----+----------+-------------------+-------------------------+--------------+--------------+-------+--------+---------------+-------+------+-------+--------+---------------+--------------+-----------------+-------+--------+-------------+------------+------------+--------+-------------+-----------------+---------+--------+----------------+--------------+---------------+-------------+----------------+--------------+--------------+------------+-----------------+----------------+-----------------+---------------+-------------------+-----------------+\n",
      "|Year|Month|DayofMonth|         FlightDate|Marketing_Airline_Network|OriginCityName|  DestCityName|DepTime|DepDelay|DepDelayMinutes|TaxiOut|TaxiIn|ArrTime|ArrDelay|ArrDelayMinutes|CRSElapsedTime|ActualElapsedTime|AirTime|Distance|DistanceGroup|CarrierDelay|WeatherDelay|NASDelay|SecurityDelay|LateAircraftDelay|DayofWeek|Holidays|CRSDepTimeMinute|CRSDepTimeHour|WheelsOffMinute|WheelsOffHour|CRSArrTimeMinute|CRSArrTimeHour|WheelsOnMinute|WheelsOnHour|CRSDepTimeHourDis|WheelsOffHourDis|CRSArrTimeHourDis|WheelsOnHourDis|CRSElapsedTimeGorup|__index_level_0__|\n",
      "+----+-----+----------+-------------------+-------------------------+--------------+--------------+-------+--------+---------------+-------+------+-------+--------+---------------+--------------+-----------------+-------+--------+-------------+------------+------------+--------+-------------+-----------------+---------+--------+----------------+--------------+---------------+-------------+----------------+--------------+--------------+------------+-----------------+----------------+-----------------+---------------+-------------------+-----------------+\n",
      "|2018|    1|        15|2018-01-15 00:00:00|                       UA|    Newark, NJ|Charleston, SC| 1928.0|    43.0|           43.0|   35.0|   4.0| 2149.0|    41.0|           41.0|         143.0|            141.0|  102.0|   628.0|            3|        41.0|         0.0|     0.0|          0.0|              0.0|        0|    true|              45|            18|              3|           20|               8|            21|            45|          21|          Evening|         Evening|            Night|          Night|                  3|                1|\n",
      "|2018|    1|        16|2018-01-16 00:00:00|                       UA|    Newark, NJ|Charleston, SC| 1956.0|    81.0|           81.0|   18.0|   5.0| 2207.0|    69.0|           69.0|         143.0|            131.0|  108.0|   628.0|            3|        67.0|         0.0|     0.0|          0.0|              2.0|        1|   false|              35|            18|             14|           20|              58|            20|             2|          22|          Evening|         Evening|          Evening|          Night|                  3|                2|\n",
      "|2018|    1|        17|2018-01-17 00:00:00|                       UA|    Newark, NJ|Charleston, SC| 1836.0|     1.0|            1.0|   19.0|   6.0| 2054.0|    -4.0|            0.0|         143.0|            138.0|  113.0|   628.0|            3|         0.0|         0.0|     0.0|          0.0|              0.0|        2|   false|              35|            18|             55|           18|              58|            20|            48|          20|          Evening|         Evening|          Evening|        Evening|                  3|                3|\n",
      "|2018|    1|        18|2018-01-18 00:00:00|                       UA|    Newark, NJ|Charleston, SC| 1844.0|    -1.0|            0.0|   36.0|   6.0| 2058.0|   -10.0|            0.0|         143.0|            134.0|   92.0|   628.0|            3|         0.0|         0.0|     0.0|          0.0|              0.0|        3|   false|              45|            18|             20|           19|               8|            21|            52|          20|          Evening|         Evening|            Night|        Evening|                  3|                4|\n",
      "|2018|    1|        20|2018-01-20 00:00:00|                       UA|    Newark, NJ|Charleston, SC| 1829.0|    -6.0|            0.0|   22.0|   6.0| 2026.0|   -32.0|            0.0|         143.0|            117.0|   89.0|   628.0|            3|         0.0|         0.0|     0.0|          0.0|              0.0|        5|   false|              35|            18|             51|           18|              58|            20|            20|          20|          Evening|         Evening|          Evening|        Evening|                  3|                6|\n",
      "+----+-----+----------+-------------------+-------------------------+--------------+--------------+-------+--------+---------------+-------+------+-------+--------+---------------+--------------+-----------------+-------+--------+-------------+------------+------------+--------+-------------+-----------------+---------+--------+----------------+--------------+---------------+-------------+----------------+--------------+--------------+------------+-----------------+----------------+-----------------+---------------+-------------------+-----------------+\n",
      "only showing top 5 rows\n",
      "\n"
     ]
    }
   ],
   "source": [
    "# Show first five records of dataframe\n",
    "df_features_added.show(5)"
   ]
  },
  {
   "cell_type": "markdown",
   "metadata": {},
   "source": [
    "Only by looking at the table headers can it be seen that the dataset with the name 'added_features' holds significantly more properties. A comparison of the respective features is made in the further course of the work."
   ]
  },
  {
   "cell_type": "markdown",
   "metadata": {},
   "source": [
    "# Data Description & Preliminary Exploration\n",
    "\n",
    "The dataset called “Flight Delay” was downloaded from the online community platform Kaggle [4]. In General the dataset consists of two files (“Flight_Delay.parquet” and “features_added.parquet”) in the Parquet-Format. It is format established by Apache in column-oriented opensource format. Parquet was designed for efficient data storage and retrieval in the Hadoop ecosystem[5]. The original data was sourced from the Bureau of Transportation Statistics (BTS). The BTS is one of many federal statistical agencies and is a significant source for statistics on commercial aviation [6]. The dataset is licensed with CCO 1.0 Universal (CCO 1.0) Public Domain Dedication. That means the data were released into public domain. Therefore the data can be copied, modified, distributed, and performed even for commercial purposes [7]. The data is frequently updated and expected to be updated annually. The last update of the dataset was performed at 04/2023. The data focuses on flights in the United States. It covers a period from 2018 to April 2023. Only delayed flights were considered. Cancellations or diverted flights are not represented in the dataset [8]."
   ]
  },
  {
   "cell_type": "markdown",
   "metadata": {},
   "source": [
    "First I will look at the dataframe 'df_flights', then the dataframe 'df_features_added'."
   ]
  },
  {
   "cell_type": "code",
   "execution_count": 104,
   "metadata": {
    "scrolled": false
   },
   "outputs": [
    {
     "name": "stdout",
     "output_type": "stream",
     "text": [
      "Year --> bigint\n",
      "Month --> bigint\n",
      "DayofMonth --> bigint\n",
      "FlightDate --> string\n",
      "Marketing_Airline_Network --> string\n",
      "OriginCityName --> string\n",
      "DestCityName --> string\n",
      "CRSDepTime --> bigint\n",
      "DepTime --> double\n",
      "DepDelay --> double\n",
      "DepDelayMinutes --> double\n",
      "TaxiOut --> double\n",
      "WheelsOff --> double\n",
      "WheelsOn --> double\n",
      "TaxiIn --> double\n",
      "CRSArrTime --> bigint\n",
      "ArrTime --> double\n",
      "ArrDelay --> double\n",
      "ArrDelayMinutes --> double\n",
      "CRSElapsedTime --> double\n",
      "ActualElapsedTime --> double\n",
      "AirTime --> double\n",
      "Distance --> double\n",
      "DistanceGroup --> bigint\n",
      "CarrierDelay --> double\n",
      "WeatherDelay --> double\n",
      "NASDelay --> double\n",
      "SecurityDelay --> double\n",
      "LateAircraftDelay --> double\n",
      "__index_level_0__ --> bigint\n"
     ]
    }
   ],
   "source": [
    "# Getting an overview of given columns and corresponding datatypes\n",
    "for col in df_flights.dtypes:\n",
    "    print(f'{col[0]} --> {col[1]}')"
   ]
  },
  {
   "cell_type": "code",
   "execution_count": 105,
   "metadata": {},
   "outputs": [
    {
     "name": "stdout",
     "output_type": "stream",
     "text": [
      "Year --> bigint\n",
      "Month --> bigint\n",
      "DayofMonth --> bigint\n",
      "FlightDate --> timestamp\n",
      "Marketing_Airline_Network --> string\n",
      "OriginCityName --> string\n",
      "DestCityName --> string\n",
      "DepTime --> double\n",
      "DepDelay --> double\n",
      "DepDelayMinutes --> double\n",
      "TaxiOut --> double\n",
      "TaxiIn --> double\n",
      "ArrTime --> double\n",
      "ArrDelay --> double\n",
      "ArrDelayMinutes --> double\n",
      "CRSElapsedTime --> double\n",
      "ActualElapsedTime --> double\n",
      "AirTime --> double\n",
      "Distance --> double\n",
      "DistanceGroup --> bigint\n",
      "CarrierDelay --> double\n",
      "WeatherDelay --> double\n",
      "NASDelay --> double\n",
      "SecurityDelay --> double\n",
      "LateAircraftDelay --> double\n",
      "DayofWeek --> bigint\n",
      "Holidays --> boolean\n",
      "CRSDepTimeMinute --> int\n",
      "CRSDepTimeHour --> int\n",
      "WheelsOffMinute --> int\n",
      "WheelsOffHour --> int\n",
      "CRSArrTimeMinute --> int\n",
      "CRSArrTimeHour --> int\n",
      "WheelsOnMinute --> int\n",
      "WheelsOnHour --> int\n",
      "CRSDepTimeHourDis --> string\n",
      "WheelsOffHourDis --> string\n",
      "CRSArrTimeHourDis --> string\n",
      "WheelsOnHourDis --> string\n",
      "CRSElapsedTimeGorup --> bigint\n",
      "__index_level_0__ --> bigint\n"
     ]
    }
   ],
   "source": [
    "# Getting an overview of given columns and corresponding datatypes\n",
    "for col in df_features_added.dtypes:\n",
    "    print(f'{col[0]} --> {col[1]}')"
   ]
  },
  {
   "cell_type": "code",
   "execution_count": 107,
   "metadata": {},
   "outputs": [
    {
     "name": "stdout",
     "output_type": "stream",
     "text": [
      "WheelsOn\n",
      "DayofWeek\n",
      "WheelsOffHour\n",
      "CRSArrTimeHourDis\n",
      "WheelsOnHourDis\n",
      "CRSArrTime\n",
      "Holidays\n",
      "CRSDepTimeMinute\n",
      "CRSDepTimeHour\n",
      "CRSArrTimeHour\n",
      "WheelsOnHour\n",
      "CRSArrTimeMinute\n",
      "WheelsOffMinute\n",
      "WheelsOffHourDis\n",
      "CRSElapsedTimeGorup\n",
      "CRSDepTimeHourDis\n",
      "WheelsOff\n",
      "CRSDepTime\n",
      "WheelsOnMinute\n",
      "The dataframe features_added has 19 additional elements.\n"
     ]
    }
   ],
   "source": [
    "# Have a detailed look at the different features\n",
    "df_flights_cols= df_flights.columns\n",
    "df_added_cols= df_features_added.columns\n",
    "\n",
    "# Showing columns different in either dataframes\n",
    "diff_both= list(set(df_flights_cols) ^ set(df_added_cols))\n",
    "\n",
    "for element in diff_both:\n",
    "    print(element)\n",
    "    \n",
    "print(f'The dataframe features_added has {len(diff_both)} additional elements.')"
   ]
  },
  {
   "cell_type": "markdown",
   "metadata": {},
   "source": [
    "Following I will take a closer look on the data itself."
   ]
  },
  {
   "cell_type": "code",
   "execution_count": 108,
   "metadata": {
    "scrolled": false
   },
   "outputs": [
    {
     "name": "stdout",
     "output_type": "stream",
     "text": [
      "Year: 2018\n",
      "Month: 1\n",
      "DayofMonth: 15\n",
      "FlightDate: 2018-01-15\n",
      "Marketing_Airline_Network: UA\n",
      "OriginCityName: Newark, NJ\n",
      "DestCityName: Charleston, SC\n",
      "CRSDepTime: 1845\n",
      "DepTime: 1928.0\n",
      "DepDelay: 43.0\n",
      "DepDelayMinutes: 43.0\n",
      "TaxiOut: 35.0\n",
      "WheelsOff: 2003.0\n",
      "WheelsOn: 2145.0\n",
      "TaxiIn: 4.0\n",
      "CRSArrTime: 2108\n",
      "ArrTime: 2149.0\n",
      "ArrDelay: 41.0\n",
      "ArrDelayMinutes: 41.0\n",
      "CRSElapsedTime: 143.0\n",
      "ActualElapsedTime: 141.0\n",
      "AirTime: 102.0\n",
      "Distance: 628.0\n",
      "DistanceGroup: 3\n",
      "CarrierDelay: 41.0\n",
      "WeatherDelay: 0.0\n",
      "NASDelay: 0.0\n",
      "SecurityDelay: 0.0\n",
      "LateAircraftDelay: 0.0\n",
      "__index_level_0__: 1\n"
     ]
    }
   ],
   "source": [
    "# Let's have a detailed look at the first a record of the df_flights dataframe\n",
    "first_entry= df_flights.first().asDict()\n",
    "\n",
    "for key, value in first_entry.items():\n",
    "    print(f'{key}: {value}')"
   ]
  },
  {
   "cell_type": "code",
   "execution_count": 109,
   "metadata": {
    "scrolled": false
   },
   "outputs": [
    {
     "name": "stdout",
     "output_type": "stream",
     "text": [
      "Year: 2018\n",
      "Month: 1\n",
      "DayofMonth: 15\n",
      "FlightDate: 2018-01-15 00:00:00\n",
      "Marketing_Airline_Network: UA\n",
      "OriginCityName: Newark, NJ\n",
      "DestCityName: Charleston, SC\n",
      "DepTime: 1928.0\n",
      "DepDelay: 43.0\n",
      "DepDelayMinutes: 43.0\n",
      "TaxiOut: 35.0\n",
      "TaxiIn: 4.0\n",
      "ArrTime: 2149.0\n",
      "ArrDelay: 41.0\n",
      "ArrDelayMinutes: 41.0\n",
      "CRSElapsedTime: 143.0\n",
      "ActualElapsedTime: 141.0\n",
      "AirTime: 102.0\n",
      "Distance: 628.0\n",
      "DistanceGroup: 3\n",
      "CarrierDelay: 41.0\n",
      "WeatherDelay: 0.0\n",
      "NASDelay: 0.0\n",
      "SecurityDelay: 0.0\n",
      "LateAircraftDelay: 0.0\n",
      "DayofWeek: 0\n",
      "Holidays: True\n",
      "CRSDepTimeMinute: 45\n",
      "CRSDepTimeHour: 18\n",
      "WheelsOffMinute: 3\n",
      "WheelsOffHour: 20\n",
      "CRSArrTimeMinute: 8\n",
      "CRSArrTimeHour: 21\n",
      "WheelsOnMinute: 45\n",
      "WheelsOnHour: 21\n",
      "CRSDepTimeHourDis: Evening\n",
      "WheelsOffHourDis: Evening\n",
      "CRSArrTimeHourDis: Night\n",
      "WheelsOnHourDis: Night\n",
      "CRSElapsedTimeGorup: 3\n",
      "__index_level_0__: 1\n"
     ]
    }
   ],
   "source": [
    "# Let's have a detailed look at the first a record of the df_features_added dataframe\n",
    "first_entry= df_features_added.first().asDict()\n",
    "\n",
    "for key, value in first_entry.items():\n",
    "    print(f'{key}: {value}')"
   ]
  },
  {
   "cell_type": "code",
   "execution_count": 111,
   "metadata": {},
   "outputs": [
    {
     "name": "stdout",
     "output_type": "stream",
     "text": [
      "Number of observations in flight delay dataset: 30132672\n"
     ]
    }
   ],
   "source": [
    "# Show the number of records/observation stored in the dataset\n",
    "print(f'Number of observations in flight delay dataset: {df_flights.count()}')"
   ]
  },
  {
   "cell_type": "code",
   "execution_count": 112,
   "metadata": {},
   "outputs": [
    {
     "name": "stdout",
     "output_type": "stream",
     "text": [
      "Number of observations in features added dataset: 30132631\n"
     ]
    }
   ],
   "source": [
    "# Show the number of records/observation stored in the dataset\n",
    "print(f'Number of observations in features added dataset: {df_features_added.count()}')"
   ]
  },
  {
   "cell_type": "code",
   "execution_count": 113,
   "metadata": {},
   "outputs": [
    {
     "name": "stdout",
     "output_type": "stream",
     "text": [
      "The dataframe df_flights is distributed on 6 partitions\n"
     ]
    }
   ],
   "source": [
    "# Print the numbers of partitions on which the data is stored\n",
    "print(f'The dataframe df_flights is distributed on {df_flights.rdd.getNumPartitions()} partitions')"
   ]
  },
  {
   "cell_type": "code",
   "execution_count": 114,
   "metadata": {},
   "outputs": [
    {
     "name": "stdout",
     "output_type": "stream",
     "text": [
      "The dataframe df_features_added is distributed on 7partitions\n"
     ]
    }
   ],
   "source": [
    "# Print the numbers of partitions on which the data is stored\n",
    "print(f'The dataframe df_features_added is distributed on {df_features_added.rdd.getNumPartitions()}partitions')"
   ]
  },
  {
   "cell_type": "markdown",
   "metadata": {},
   "source": [
    "It is clear from comparing the two datasets supplied that the additional information in 'features_added' comes from conversions and classifications of time units in the initial dataset. For example, the arrival time 'CSRArrTime' is represented as a double value in the form of '2349.00'. This value is therefore represented in 'features_added' as a 'CSRArrTimeHour' and 'CSRArrTimeMinute'. This is similar for a few other features, such as 'CRSDepTime'.\n",
    "\n",
    "Im summary the two files of the dataset have a size of 1.59 Gigabyte (flights_delay.parquet is 772.2 MB / features_added.parquet is 818.8 MB) in total. Both files of the dataset hold different features. The first file holds 29 columns and have in total 30’132’672 observations. The second file contains 40 features and holds 30’132’631. Both files rdds are dirtibruted in 6 to 7 partitions.\n",
    "\n",
    "Regardless of which file is ultimately used, it can be said that both files are suitable for analysis in the context of big data.\n",
    "\n",
    "For the following steps including the analysis I will use the datafram df_flights, based on the file 'flights_delay.parquet'."
   ]
  },
  {
   "cell_type": "code",
   "execution_count": 115,
   "metadata": {},
   "outputs": [
    {
     "name": "stdout",
     "output_type": "stream",
     "text": [
      "Year: 2018\n",
      "Month: 1\n",
      "DayofMonth: 1\n",
      "FlightDate: 2018-01-01\n",
      "Marketing_Airline_Network: F9\n",
      "OriginCityName: Philadelphia, PA\n",
      "DestCityName: Charlotte, NC\n",
      "CRSDepTime: 1244\n",
      "DepTime: 1345.0\n",
      "DepDelay: 61.0\n",
      "DepDelayMinutes: 61.0\n",
      "TaxiOut: 12.0\n",
      "WheelsOff: 1357.0\n",
      "WheelsOn: 1519.0\n",
      "TaxiIn: 8.0\n",
      "CRSArrTime: 1445\n",
      "ArrTime: 1527.0\n",
      "ArrDelay: 42.0\n",
      "ArrDelayMinutes: 42.0\n",
      "CRSElapsedTime: 121.0\n",
      "ActualElapsedTime: 102.0\n",
      "AirTime: 82.0\n",
      "Distance: 449.0\n",
      "DistanceGroup: 2\n",
      "CarrierDelay: 42.0\n",
      "WeatherDelay: 0.0\n",
      "NASDelay: 0.0\n",
      "SecurityDelay: 0.0\n",
      "LateAircraftDelay: 0.0\n",
      "__index_level_0__: 5859\n"
     ]
    }
   ],
   "source": [
    "# Having a look at a second randomly choosen entry\n",
    "random_flight= df_flights.sample(False, 0.001).first().asDict()\n",
    "\n",
    "for key, value in random_flight.items():\n",
    "    print(f'{key}: {value}')"
   ]
  },
  {
   "cell_type": "markdown",
   "metadata": {},
   "source": [
    "It is interessting to see, that the date choosen is close to the first record of data frame. Lets have quick look at the covered time periods. To do this in a simple way I register as a temporary sql view. So that I can perform easier commands.\n",
    "\n",
    "I also notice that this observation has a negative value for the 'DepDelay' property. This is also evident in the 'ArrDelay'. In addition, the 'CarrierDelay', 'WeatherDelay', 'NASDelay' and 'SecurityDelay' are all set to 0. This would mean that the flight could take off 7 minutes earlier and also reach its destination 7 minutes earlier without any kind of delay."
   ]
  },
  {
   "cell_type": "code",
   "execution_count": 116,
   "metadata": {},
   "outputs": [],
   "source": [
    "# Register as temp table to use sql functionality\n",
    "df_flights.createOrReplaceTempView('flights')"
   ]
  },
  {
   "cell_type": "code",
   "execution_count": 117,
   "metadata": {},
   "outputs": [
    {
     "name": "stdout",
     "output_type": "stream",
     "text": [
      "[Table(name='flights', database=None, description=None, tableType='TEMPORARY', isTemporary=True)]\n"
     ]
    }
   ],
   "source": [
    "# check if dataframe was registered as temp table view\n",
    "print(spark_session.catalog.listTables())"
   ]
  },
  {
   "cell_type": "code",
   "execution_count": 118,
   "metadata": {},
   "outputs": [
    {
     "name": "stdout",
     "output_type": "stream",
     "text": [
      "+----+\n",
      "|year|\n",
      "+----+\n",
      "|2021|\n",
      "|2022|\n",
      "|2018|\n",
      "|2020|\n",
      "|2023|\n",
      "|2019|\n",
      "+----+\n",
      "\n"
     ]
    }
   ],
   "source": [
    "# Check the distinct values for the column 'year'\n",
    "distinct_years= df_flights.select('year').distinct()\n",
    "distinct_years.show()"
   ]
  },
  {
   "cell_type": "markdown",
   "metadata": {},
   "source": [
    "It gives the impression that an entry was selected at random that is in the same year. The table above clearly shows that the given data covers the years from 2018 to 2023."
   ]
  },
  {
   "cell_type": "code",
   "execution_count": 120,
   "metadata": {},
   "outputs": [
    {
     "name": "stdout",
     "output_type": "stream",
     "text": [
      "The average departure delay is: 10.611442025453302 minutes \n",
      "The average arrival delay is: 3.754416800474913 minutes\n"
     ]
    }
   ],
   "source": [
    "# Query the mean delay of all flights and years\n",
    "avg_delays = spark_session.sql('SELECT avg(DepDelay), avg(ArrDelay) from flights').collect()\n",
    "print(\n",
    "    f\"The average departure delay is: {avg_delays[0]['avg(DepDelay)']} minutes \\n\"\n",
    "    f\"The average arrival delay is: {avg_delays[0]['avg(ArrDelay)']} minutes\"\n",
    ")"
   ]
  },
  {
   "cell_type": "code",
   "execution_count": 121,
   "metadata": {},
   "outputs": [
    {
     "data": {
      "text/plain": [
       "[Row(year=2021, AvgDepDelay=10.233864225814488, AvgArrDelay=2.7361038090682204, AmtFlights=5234456),\n",
       " Row(year=2022, AvgDepDelay=13.717417900808877, AvgArrDelay=7.061611393510928, AmtFlights=5706055),\n",
       " Row(year=2018, AvgDepDelay=11.163514924775058, AvgArrDelay=5.067184163654086, AmtFlights=6438556),\n",
       " Row(year=2020, AvgDepDelay=2.0338133657078155, AvgArrDelay=-6.352663361235913, AmtFlights=4148123),\n",
       " Row(year=2023, AvgDepDelay=13.972326434262108, AvgArrDelay=7.916352801079121, AmtFlights=1897840),\n",
       " Row(year=2019, AvgDepDelay=12.087613650221643, AvgArrDelay=5.548441762395787, AmtFlights=6707642)]"
      ]
     },
     "execution_count": 121,
     "metadata": {},
     "output_type": "execute_result"
    }
   ],
   "source": [
    "# Querying the mean delays grouped by years\n",
    "delays_by_years= spark_session.sql('SELECT year, avg(DepDelay) as AvgDepDelay, avg(ArrDelay) as AvgArrDelay, count(*) as AmtFlights from flights GROUP BY year').collect()\n",
    "delays_by_years"
   ]
  },
  {
   "cell_type": "code",
   "execution_count": 122,
   "metadata": {},
   "outputs": [
    {
     "data": {
      "text/html": [
       "<div>\n",
       "<style scoped>\n",
       "    .dataframe tbody tr th:only-of-type {\n",
       "        vertical-align: middle;\n",
       "    }\n",
       "\n",
       "    .dataframe tbody tr th {\n",
       "        vertical-align: top;\n",
       "    }\n",
       "\n",
       "    .dataframe thead th {\n",
       "        text-align: right;\n",
       "    }\n",
       "</style>\n",
       "<table border=\"1\" class=\"dataframe\">\n",
       "  <thead>\n",
       "    <tr style=\"text-align: right;\">\n",
       "      <th></th>\n",
       "      <th>year</th>\n",
       "      <th>AvgDepDelay</th>\n",
       "      <th>AvgArrDelay</th>\n",
       "      <th>AmtFlights</th>\n",
       "    </tr>\n",
       "  </thead>\n",
       "  <tbody>\n",
       "    <tr>\n",
       "      <th>0</th>\n",
       "      <td>2021</td>\n",
       "      <td>10.233864</td>\n",
       "      <td>2.736104</td>\n",
       "      <td>5234456</td>\n",
       "    </tr>\n",
       "    <tr>\n",
       "      <th>1</th>\n",
       "      <td>2022</td>\n",
       "      <td>13.717418</td>\n",
       "      <td>7.061611</td>\n",
       "      <td>5706055</td>\n",
       "    </tr>\n",
       "    <tr>\n",
       "      <th>2</th>\n",
       "      <td>2018</td>\n",
       "      <td>11.163515</td>\n",
       "      <td>5.067184</td>\n",
       "      <td>6438556</td>\n",
       "    </tr>\n",
       "    <tr>\n",
       "      <th>3</th>\n",
       "      <td>2020</td>\n",
       "      <td>2.033813</td>\n",
       "      <td>-6.352663</td>\n",
       "      <td>4148123</td>\n",
       "    </tr>\n",
       "    <tr>\n",
       "      <th>4</th>\n",
       "      <td>2023</td>\n",
       "      <td>13.972326</td>\n",
       "      <td>7.916353</td>\n",
       "      <td>1897840</td>\n",
       "    </tr>\n",
       "    <tr>\n",
       "      <th>5</th>\n",
       "      <td>2019</td>\n",
       "      <td>12.087614</td>\n",
       "      <td>5.548442</td>\n",
       "      <td>6707642</td>\n",
       "    </tr>\n",
       "  </tbody>\n",
       "</table>\n",
       "</div>"
      ],
      "text/plain": [
       "   year  AvgDepDelay  AvgArrDelay  AmtFlights\n",
       "0  2021    10.233864     2.736104     5234456\n",
       "1  2022    13.717418     7.061611     5706055\n",
       "2  2018    11.163515     5.067184     6438556\n",
       "3  2020     2.033813    -6.352663     4148123\n",
       "4  2023    13.972326     7.916353     1897840\n",
       "5  2019    12.087614     5.548442     6707642"
      ]
     },
     "execution_count": 122,
     "metadata": {},
     "output_type": "execute_result"
    }
   ],
   "source": [
    "# In order to show the tabular data in a more readable manner pandas will be used\n",
    "import pandas as pd\n",
    "\n",
    "df_delays_by_years= pd.DataFrame([row.asDict() for row in delays_by_years])\n",
    "df_delays_by_years"
   ]
  },
  {
   "cell_type": "markdown",
   "metadata": {},
   "source": [
    "This small overview gives a good first overview of the data. It looks like on average there are the most delays at departure and arrival in 2023. It must be taken into account that the year 2023 is not yet complete. Most flights took place in 2018, 2019. In 2020, there is a significant decrease in flights due to the C19 pandemic. In the years following the pandemic, flights have increased again, but the pre-pandemic number of flights has not been reached."
   ]
  },
  {
   "cell_type": "markdown",
   "metadata": {},
   "source": [
    "# Hypothesis\n",
    "\n",
    "Initially in this section, I would like to focus on a specific operational concern of flight management: The understanding between departure and arrival delays. In the data, there were examples where departure delays could be made up, or flights took off without delay but still arrived late at their destination. In this context, the aim is to test that the departure delay does not have a significant impact on the probability of an arrival delay.   Thus, the null hypothesis states: The probability that a flight has a departure delay has no significant influence on the probability that the same flight has an arrival delay. The alternative hypothesis is therefore: A departure delay increases the probability of a subsequent arrival delay.\n",
    "\n",
    "After gaining an impression of how a departure delay and an arrival delay are related, it would be interesting to have a closer look at the amount of delays and how they might change over a period. With this dataset, it could be particularly interesting, as the Corona year 2020 is mapped and thus the period in which a lot of following took place is covered, up to no flights and a renewed increase after the Corona years 2021-2023. Therefore, the hypothesis would be: The number of delayed flights is linear to the total amount of flights. The alternative hypothesis is: The number of observed delays is not linearly to the total number of flights. The following sub-hypothesis follow: Some airlines have significantly more delays then others. Some months of the year face a much higher amount of delays then others of the year (eg. Due to holidays)\n",
    "\n",
    "Finally, I would like to examine the causes of flight delays, focusing particularly on weather conditions. It is a widely held belief that weather is a major cause of delays. When examining the dataset, the WeatherDelay feature stands out as the only representative variable for weather-related delays. However, it is crucial to note that this is not an independent variable describing weather conditions such as rain or snow, but rather captures the duration of delay that is due to weather. An important aspect of this is that the dataset captures only delayed flights, indicating that despite potential weather problems, conditions were not severe enough to prevent departure. Therefore, my central hypothesis is that arrival delays are not due to bad weather and have the smallest impact on total delay duration. The Alternatov hypothesis, on the other hand, assumes a significant delay contribution from adverse weather conditions. This results in a second hypothesis: greater delays in arrivals are due to an interaction of external variables. The counter hypothesis states that significant delays are due to individual external challenges, such as logistical complications.\n"
   ]
  },
  {
   "cell_type": "markdown",
   "metadata": {},
   "source": [
    "## Hypothesis I - Flight Delays"
   ]
  },
  {
   "cell_type": "markdown",
   "metadata": {},
   "source": [
    "In this section I want to validate the Hypothesis: The probability of a flight having a departure delay does not significantly affect the probability of the flight having an arrival delay. The alternative hypothesis is: The probability of a flight having a departure delay significantly increases the probability of the flight having an arrival delay.\n",
    "\n",
    "To test this hypothesis statistically, I will first create a correlation matrix between departure delays and arrival delays. Then, I will build a regression model to predict the probabilities of a late arrival based on a late take-off. If the coefficient is significantly positive, this supports the hypothesis. \n",
    "\n",
    "Finally, the flights are divided into four categories using the Chi-Squared test: \n",
    "- No delay at take-off & No delay at arrival.\n",
    "- Delay at take-off & No delay at arrival\n",
    "- No delay at take-off & delay at arrival\n",
    "- Delayed take-off & delayed arrival\n",
    "\n",
    "The test can be used to determine whether there is a significant relationship between departure and arrival delays."
   ]
  },
  {
   "cell_type": "markdown",
   "metadata": {},
   "source": [
    "### Correlation - Depaturer Delays and Arrival Delays"
   ]
  },
  {
   "cell_type": "code",
   "execution_count": 123,
   "metadata": {},
   "outputs": [
    {
     "name": "stdout",
     "output_type": "stream",
     "text": [
      "The correlation coeffiecent between the depature delay and arrival delay is: 0.9688436414428219\n"
     ]
    }
   ],
   "source": [
    "corr_dep_arr_delay= df_flights.corr('DepDelay','ArrDelay')\n",
    "print(f'The correlation coeffiecent between the depature delay and arrival delay is: {corr_dep_arr_delay}')"
   ]
  },
  {
   "cell_type": "markdown",
   "metadata": {},
   "source": [
    "The correlation coefficient is positive at 0.968 and almost reaches the value 1. This means that the variables DepDelay and ArrDelay are closely related. And thus a late departure time has a strong influence on a late arrival time."
   ]
  },
  {
   "cell_type": "markdown",
   "metadata": {},
   "source": [
    "### Building Regression Model"
   ]
  },
  {
   "cell_type": "code",
   "execution_count": 124,
   "metadata": {},
   "outputs": [],
   "source": [
    "# import necessary libs\n",
    "from pyspark.ml.feature import VectorAssembler\n",
    "from pyspark.ml.regression import LinearRegression\n",
    "from pyspark.ml import Pipeline"
   ]
  },
  {
   "cell_type": "code",
   "execution_count": 125,
   "metadata": {},
   "outputs": [],
   "source": [
    "# select data\n",
    "delays= df_flights.select('DepDelay','ArrDelay')"
   ]
  },
  {
   "cell_type": "code",
   "execution_count": 126,
   "metadata": {},
   "outputs": [],
   "source": [
    "# Create Vector Assembler\n",
    "assembler= VectorAssembler(inputCols=['DepDelay'], outputCol='features')"
   ]
  },
  {
   "cell_type": "code",
   "execution_count": 127,
   "metadata": {},
   "outputs": [],
   "source": [
    "# Defining the regression model\n",
    "lr= LinearRegression(featuresCol='features', labelCol='ArrDelay', predictionCol='predicted_arr_delay')"
   ]
  },
  {
   "cell_type": "code",
   "execution_count": 128,
   "metadata": {},
   "outputs": [],
   "source": [
    "# defining ml pipline with corresponding satges\n",
    "pipeline= Pipeline(stages=[assembler, lr])"
   ]
  },
  {
   "cell_type": "code",
   "execution_count": 129,
   "metadata": {},
   "outputs": [],
   "source": [
    "# execute the pipline with the filtered data\n",
    "model= pipeline.fit(delays)"
   ]
  },
  {
   "cell_type": "code",
   "execution_count": 130,
   "metadata": {},
   "outputs": [
    {
     "name": "stdout",
     "output_type": "stream",
     "text": [
      "Root Mean Squared Error (RMSE): 13.509648557627134\n"
     ]
    }
   ],
   "source": [
    "# Import the RegressionEvaluator module from PySpark's MLlib\n",
    "from pyspark.ml.evaluation import RegressionEvaluator\n",
    "\n",
    "# Use the trained model to make predictions on the 'delays' dataset\n",
    "predictions = model.transform(delays)\n",
    "\n",
    "# Initialize the regression evaluator with the actual and predicted columns, and specify the evaluation metric as RMSE\n",
    "evaluator = RegressionEvaluator(labelCol='ArrDelay', predictionCol='predicted_arr_delay', metricName='rmse')\n",
    "\n",
    "# Calculate the RMSE (Root Mean Squared Error) for the predictions\n",
    "rmse = evaluator.evaluate(predictions)\n",
    "\n",
    "# Print out the calculated RMSE\n",
    "print(f\"Root Mean Squared Error (RMSE): {rmse}\")"
   ]
  },
  {
   "cell_type": "code",
   "execution_count": 68,
   "metadata": {},
   "outputs": [
    {
     "name": "stdout",
     "output_type": "stream",
     "text": [
      "Coefficient for departure_delay: [4.208752612446717,4.68085004210712,2.1523916631090674,-0.8143091326252104]\n",
      "Intercept: 0.8417200107577569\n"
     ]
    }
   ],
   "source": [
    "# Get linear regression model from the last stage of the pipeline model\n",
    "linear_model = model.stages[-1]\n",
    "\n",
    "# Print out the coefficient associated with the predictor\n",
    "print(f\"Coefficient for departure_delay: {linear_model.coefficients}\")\n",
    "\n",
    "# Print out the y-intercept\n",
    "print(f\"Intercept: {linear_model.intercept}\")\n"
   ]
  },
  {
   "cell_type": "markdown",
   "metadata": {},
   "source": [
    "The model coefficient is slightly above 1 and the intercept is just under -7. This means that there is almost a one-to-one relationship between the DepDealay and ArrDelay. Thus, it is very likely that for every minute of delay in departure, a minute of delay in arrival is added.  The intercept indicates that the flight will reach its destination 7 minutes earlier if the aircraft can depart on time. This can be influenced by various factors, such as weather conditions and the like. However, we will not go into this further at this point.\n",
    "\n",
    "In summary, the model suggests that departure and arrival delays are directly related. "
   ]
  },
  {
   "cell_type": "markdown",
   "metadata": {},
   "source": [
    "### Building a Contingency Matrix"
   ]
  },
  {
   "cell_type": "code",
   "execution_count": 254,
   "metadata": {},
   "outputs": [],
   "source": [
    "# Import the necessary libraries\n",
    "from pyspark.sql import functions as F"
   ]
  },
  {
   "cell_type": "code",
   "execution_count": 257,
   "metadata": {},
   "outputs": [
    {
     "data": {
      "text/plain": [
       "DataFrame[ArrDelay: double, DepDelay: double, DepDelayCategory: string]"
      ]
     },
     "execution_count": 257,
     "metadata": {},
     "output_type": "execute_result"
    }
   ],
   "source": [
    "# Categorize delays in preperation of contingency table\n",
    "\n",
    "# Select the needed columns\n",
    "df_flights_delays= df_flights.select('ArrDelay', 'DepDelay')\n",
    "\n",
    "# Update the `df_flights_delays` DataFrame by adding a new column 'DepDelayCategory'. \n",
    "# If 'DepDelay' column's value is greater than 0, label it as \"Delay Departure\"; otherwise, label it as \"No Delay Departure\".\n",
    "df_flights_delays= df_flights_delays.withColumn('DepDelayCategory',F.when(F.col('DepDelay')>0, \"Delay Departure\").otherwise('No Delay Departure'))\n",
    "\n",
    "# Cache the `df_flights_delays` DataFrame in memory for faster subsequent operations.\n",
    "df_flights_delays.cache()\n"
   ]
  },
  {
   "cell_type": "code",
   "execution_count": 258,
   "metadata": {
    "scrolled": false
   },
   "outputs": [
    {
     "data": {
      "text/plain": [
       "DataFrame[ArrDelay: double, DepDelay: double, DepDelayCategory: string, ArrDelayCategory: string]"
      ]
     },
     "execution_count": 258,
     "metadata": {},
     "output_type": "execute_result"
    }
   ],
   "source": [
    "df_flights_delays= df_flights_delays.withColumn('ArrDelayCategory',F.when(F.col('ArrDelay')>0, \"Delay Arrival\").otherwise('No Delay Arrival'))\n",
    "df_flights_delays.cache()"
   ]
  },
  {
   "cell_type": "code",
   "execution_count": 261,
   "metadata": {},
   "outputs": [],
   "source": [
    "# Create contingency table\n",
    "contingency_table= df_flights_delays.groupBy(\"DepDelayCategory\", \"ArrDelayCategory\").count() # don't chain show() action it will turn df in Type 'NoneType'"
   ]
  },
  {
   "cell_type": "code",
   "execution_count": 273,
   "metadata": {},
   "outputs": [
    {
     "name": "stdout",
     "output_type": "stream",
     "text": [
      "+------------------+----------------+--------+\n",
      "|  DepDelayCategory|ArrDelayCategory|   count|\n",
      "+------------------+----------------+--------+\n",
      "|   Delay Departure|   Delay Arrival| 5680003|\n",
      "|   Delay Departure|No Delay Arrival| 3252397|\n",
      "|No Delay Departure|No Delay Arrival|20408527|\n",
      "|No Delay Departure|   Delay Arrival|  791745|\n",
      "+------------------+----------------+--------+\n",
      "\n"
     ]
    }
   ],
   "source": [
    "# show contingency table\n",
    "contingency_table.show()"
   ]
  },
  {
   "cell_type": "markdown",
   "metadata": {},
   "source": [
    "The contingency matrix shows the different combinations of delays:\n",
    "- Delay Departure <> Delay Arrival\n",
    "- Delay Departure <> No Delay Arrival\n",
    "- No Delay Departure <> No Delay Arrival\n",
    "- No Delay Departure <> Delay Arrival\n",
    "\n",
    "There are now two situations to consider: Flights that depart on time and flights that depart late.\n",
    "\n",
    "There are a total of 20,408,527 and 791,745 flights, i.e. a total of 21,200,272 flights that depart on time. Of these, 791,745 are delayed on arrival, which is approximately 3.7%. In contrast, 20,408,527 flights arrive on time at their destination. This is 96.26% . \n",
    "\n",
    "In contrast, 5,680,003 plus 3,252,397 flights are delayed. That is a total of 8,932,400 delayed flights. Of these flights, 325,2397 can make up for the delay on arrival, i.e. 36.41%. This means that 63.58% of the flights cannot make up for the delay.\n",
    "\n",
    "This matrix shows that the properties 'DepDelay' and 'ArrDelay' are closely related. Most flights that depart on time also arrive at their destination on time. Some of the flights that start late can make up for the delay, but the majority of flights that start late also arrive late at their destination. Only a small proportion of flights that take off on time lose time during the flight due to special circumstances and arrive late at their destination airport.\n",
    "\n",
    "That means that the hypothesis \"The probability of a flight having a departure delay does not significantly affect the probability of the flight having an arrival delay\" can be disproved. Therefore, the alternative hypothesis is correct.\n",
    "The probability of a flight having a departure delay significantly increases the probability of the flight having an arrival delay."
   ]
  },
  {
   "cell_type": "markdown",
   "metadata": {},
   "source": [
    "## Hypothesis II - Linearity of the delays"
   ]
  },
  {
   "cell_type": "markdown",
   "metadata": {},
   "source": [
    "With the help of the hypothesis \"The number of delayed flights is linear to the total amount of flights\" I would like to get a deeper insight into how the delays behave over a certain period of time.\n",
    "The data set starts in 2018 and ends after the first quarter of 2023. This covers strong travel years, but also crisis years, such as the corona pandemic.  However, it also covers the years after the pandemic.\n",
    "\n",
    "In addition to the time aspect, I would also like to look at the respective airlines and whether there are any airlines with which there are more delays.\n",
    "\n",
    "Finally, I will examine whether trends can be identified in certain time periods, e.g. whether there is a \"summer slump\" or an increase in flights in December with a view to the Christmas season.\n",
    "\n",
    "To address the above hypotheses, I will technically proceed as follows:\n",
    "\n",
    "The number of delays is counted, as well as the total number of delays for the same period. Then, a lienares regression model is initialized to derive the p-value. Based on the p-value, it can be determined whether there is a statistically relevant linearity.\n",
    "\n",
    "To identify the airline with the most delays, I will perform a variance analysis to see if there are statistically relevant differences among the airlines. I will then examine which airline has the most delays on the flights it operates.\n",
    "\n",
    "\n",
    "\n"
   ]
  },
  {
   "cell_type": "markdown",
   "metadata": {},
   "source": [
    "#### Linearity of Flights in Relation to Total"
   ]
  },
  {
   "cell_type": "code",
   "execution_count": 131,
   "metadata": {},
   "outputs": [],
   "source": [
    "# Getting the total number of flights per month\n",
    "# Import Libs if not done yet\n",
    "from pyspark.sql import functions as F\n",
    "\n",
    "df_total_flights_per_month= df_flights.groupBy('year', 'month').agg(F.count(\"*\").alias('total_flights'))"
   ]
  },
  {
   "cell_type": "code",
   "execution_count": 132,
   "metadata": {},
   "outputs": [],
   "source": [
    "# creating dataframe for delayed flights\n",
    "df_delayed_flights_per_month= df_flights.filter(df_flights.ArrDelay > 0).groupBy('year', 'month').agg(F.count('*').alias('delayed_flights'))"
   ]
  },
  {
   "cell_type": "code",
   "execution_count": 133,
   "metadata": {},
   "outputs": [],
   "source": [
    "# join both dataframe\n",
    "combined_results= df_total_flights_per_month.join(\n",
    "    df_delayed_flights_per_month,\n",
    "    on= ['year', 'month'],\n",
    "    how= 'left' # left join to keep months woth zero delays (just in case there is a month)\n",
    ").fillna(0) # fill null values for months without delays\n",
    "\n",
    "# order results\n",
    "combined_results= combined_results.orderBy('year','month')"
   ]
  },
  {
   "cell_type": "code",
   "execution_count": 135,
   "metadata": {},
   "outputs": [
    {
     "name": "stdout",
     "output_type": "stream",
     "text": [
      "+----+-----+-------------+---------------+\n",
      "|year|month|total_flights|delayed_flights|\n",
      "+----+-----+-------------+---------------+\n",
      "|2018|    1|       512703|         107795|\n",
      "|2018|    2|       468544|         107039|\n",
      "|2018|    3|       535421|         107716|\n",
      "|2018|    4|       534611|         112892|\n",
      "|2018|    5|       553672|         129039|\n",
      "|2018|    6|       556726|         146600|\n",
      "|2018|    7|       573694|         153731|\n",
      "|2018|    8|       568087|         156633|\n",
      "|2018|    9|       533820|         104357|\n",
      "|2018|   10|       550900|         111921|\n",
      "|2018|   11|       518314|         123353|\n",
      "|2018|   12|       532064|         120488|\n",
      "|2019|    1|       521565|         117144|\n",
      "|2019|    2|       469973|         132709|\n",
      "|2019|    3|       567828|         116948|\n",
      "|2019|    4|       555919|         117645|\n",
      "|2019|    5|       573422|         137175|\n",
      "|2019|    6|       566131|         167905|\n",
      "|2019|    7|       597202|         148265|\n",
      "|2019|    8|       597985|         146186|\n",
      "+----+-----+-------------+---------------+\n",
      "only showing top 20 rows\n",
      "\n"
     ]
    }
   ],
   "source": [
    "# show the table with combined results\n",
    "combined_results.show()"
   ]
  },
  {
   "cell_type": "code",
   "execution_count": 136,
   "metadata": {},
   "outputs": [],
   "source": [
    "# transform the data\n",
    "# load libs in case previous steps were skipped\n",
    "from pyspark.ml.feature import VectorAssembler\n",
    "\n",
    "# Create a VectorAssembler object to transform the 'total_flights' column into a vector\n",
    "assembler = VectorAssembler(inputCols=['total_flights'], outputCol='features')\n",
    "\n",
    "# Use the assembler to transform the `combined_results` DataFrame, creating the 'features' vector column\n",
    "data = assembler.transform(combined_results)"
   ]
  },
  {
   "cell_type": "code",
   "execution_count": 137,
   "metadata": {},
   "outputs": [],
   "source": [
    "# import necessary libs\n",
    "from pyspark.ml.regression import LinearRegression\n",
    "\n",
    "# Initialize the linear regression model\n",
    "lr= LinearRegression(featuresCol='features', labelCol= 'delayed_flights')\n",
    "\n",
    "# fit the model to the data\n",
    "lr_model= lr.fit(data)"
   ]
  },
  {
   "cell_type": "code",
   "execution_count": 138,
   "metadata": {},
   "outputs": [
    {
     "name": "stdout",
     "output_type": "stream",
     "text": [
      "P-value for coefficient of \"total_flights\": 0.0\n"
     ]
    }
   ],
   "source": [
    "# store summary data from the lr model\n",
    "summary= lr_model.summary\n",
    "\n",
    "# print p-value\n",
    "print(f'P-value for coefficient of \"total_flights\": {summary.pValues[0]}')"
   ]
  },
  {
   "cell_type": "markdown",
   "metadata": {},
   "source": [
    "At this point I would like to briefly discuss the p-value, as it might be a little confusing as the value is shown as '0.0'. This fact has irritated me at least. In the statistical packages, a p-value of '0' does not necessarily mean zero, but represents a value that is close to zero because the value is below a precisely representable float value.\n",
    "\n",
    "Anyway a p-value close to zero would mean that there is a strong evidence against the alternativ hypothesis. It indicates that there is a statically significant linear relationship between the total number of flights and the delayed flights.\n"
   ]
  },
  {
   "cell_type": "markdown",
   "metadata": {},
   "source": [
    "#### Delays Grouped by Airlines"
   ]
  },
  {
   "cell_type": "markdown",
   "metadata": {},
   "source": [
    "For the question of whether the airlines have different ratios of delays or whether certain airlines have significantly more delays than others, I would like to carry out an analysis of variance (ANOVA). This will check whether all airlines have the same average delay in minutes.\n",
    "\n",
    "Independently of the ANOVA analysis, I would first like to give an overview of the different airlines."
   ]
  },
  {
   "cell_type": "code",
   "execution_count": 139,
   "metadata": {},
   "outputs": [
    {
     "name": "stdout",
     "output_type": "stream",
     "text": [
      "+-------------------------+\n",
      "|Marketing_Airline_Network|\n",
      "+-------------------------+\n",
      "|                       UA|\n",
      "|                       NK|\n",
      "|                       AA|\n",
      "|                       B6|\n",
      "|                       DL|\n",
      "|                       F9|\n",
      "|                       HA|\n",
      "|                       G4|\n",
      "|                       AS|\n",
      "|                       VX|\n",
      "|                       WN|\n",
      "+-------------------------+\n",
      "\n"
     ]
    }
   ],
   "source": [
    "# show all distinct Airlines\n",
    "df_flights.select('Marketing_Airline_Network').distinct().show()"
   ]
  },
  {
   "cell_type": "code",
   "execution_count": 140,
   "metadata": {},
   "outputs": [
    {
     "name": "stdout",
     "output_type": "stream",
     "text": [
      "+----+-------------------------+-------------------+--------------------+\n",
      "|Year|Marketing_Airline_Network|      avg(DepDelay)|       avg(ArrDelay)|\n",
      "+----+-------------------------+-------------------+--------------------+\n",
      "|2018|                       AS|  3.367230816334573| -0.9682093628837415|\n",
      "|2018|                       B6| 17.676579542299606|   12.29017966921826|\n",
      "|2018|                       NK| 10.924754773694028|   4.989848771520202|\n",
      "|2018|                       UA| 12.509293383925252|   7.674564615599561|\n",
      "|2018|                       AA| 11.190872256687916|   6.034382865149144|\n",
      "|2018|                       WN|  11.72480750567959|   4.081481151916416|\n",
      "|2018|                       VX|  7.123325149070501|  0.7362329007365837|\n",
      "|2018|                       DL|  9.765901552631185|   1.818899457281171|\n",
      "|2018|                       F9| 22.080191670777253|  15.573039250229018|\n",
      "|2018|                       G4| 14.562097771496353|  10.672147490094137|\n",
      "|2018|                       HA| 1.4279064069582261| 0.44325003062599533|\n",
      "|2019|                       AS|  4.845557518154036|-0.09211876524518463|\n",
      "|2019|                       NK| 11.889742504450075|   4.906742660999948|\n",
      "|2019|                       G4| 11.348917368372351|   8.294380956787268|\n",
      "|2019|                       B6| 19.287940967255274|  11.888735157782833|\n",
      "|2019|                       WN| 10.456732834222272|  1.8130136775278598|\n",
      "|2019|                       DL| 10.287426146566535|  2.0423034835724434|\n",
      "|2019|                       UA| 16.638053219041506|  11.388674719045326|\n",
      "|2019|                       AA| 11.956632160174681|   6.774774722345728|\n",
      "|2019|                       HA| 0.9904255319148936| -0.5750139977603583|\n",
      "|2019|                       F9|  15.90531523642732|   9.045035026269701|\n",
      "|2020|                       AS|-1.0881830744285341|  -7.655469087579843|\n",
      "|2020|                       AA|   3.19938922180584|  -4.066929535623373|\n",
      "|2020|                       NK| 3.9014579707356325|  -4.571958333697753|\n",
      "|2020|                       HA|-1.6675394881324437|  -4.796182109975505|\n",
      "|2020|                       B6| 1.4244208317372549|  -6.783313625235248|\n",
      "|2020|                       G4| 6.2041783270067326|   2.908703000748109|\n",
      "|2020|                       F9| 0.7000323352518916|  -7.889646252344305|\n",
      "|2020|                       WN| 0.4501558552186056| -10.066607532562497|\n",
      "|2020|                       DL| 1.9925124246154735|  -6.259058097935662|\n",
      "|2020|                       UA|  2.825485623808952|  -6.351976953857815|\n",
      "|2021|                       WN| 14.014369471132937|   5.263848173754822|\n",
      "|2021|                       AS|  4.000269369221243| -0.8451756672135678|\n",
      "+----+-------------------------+-------------------+--------------------+\n",
      "only showing top 33 rows\n",
      "\n"
     ]
    }
   ],
   "source": [
    "# Show all airlines and the corresponding average delays\n",
    "df_flights.select('Year','Marketing_Airline_Network','DepDelay','ArrDelay').groupBy('Year','Marketing_Airline_Network').mean('DepDelay', 'ArrDelay').sort('year').show(33)"
   ]
  },
  {
   "cell_type": "markdown",
   "metadata": {},
   "source": [
    "What seems unusual at this point is the fact that I counted 11 different airlines at the beginning. In a second step, I grouped the selection by year and airline and listed the different average delays. In addition, I have specified that 33 lines are displayed. According to my calculation, 3 years with 11 airlines each should be displayed. However, 4 years are shown in the table above. This leads to the assumption that either airlines were added or possibly no longer included on this route."
   ]
  },
  {
   "cell_type": "code",
   "execution_count": 141,
   "metadata": {
    "scrolled": true
   },
   "outputs": [
    {
     "name": "stdout",
     "output_type": "stream",
     "text": [
      "+----+-----------------+\n",
      "|Year|Distintc_Airlines|\n",
      "+----+-----------------+\n",
      "|2018|               11|\n",
      "|2019|               10|\n",
      "|2020|               10|\n",
      "|2021|               10|\n",
      "|2022|               10|\n",
      "|2023|               10|\n",
      "+----+-----------------+\n",
      "\n"
     ]
    }
   ],
   "source": [
    "# import necessary library\n",
    "from pyspark.sql.functions import countDistinct\n",
    "\n",
    "# print the number of distinct airlines by year to see changes\n",
    "df_flights.groupBy('Year').agg(countDistinct('Marketing_Airline_Network').alias('Distintc_Airlines')).sort('Year').show()"
   ]
  },
  {
   "cell_type": "markdown",
   "metadata": {},
   "source": [
    "This shows that after the first year an airline was no longer managed. This could have several reasons. It is no longer documented, it has gone bankrupt or similar. I do not want to go into this further at this point, but come back to the analysis of the hypotheses."
   ]
  },
  {
   "cell_type": "code",
   "execution_count": 142,
   "metadata": {},
   "outputs": [],
   "source": [
    "# Preperation of the data -> building a data frame holding the airline and the delay\n",
    "df_airline_delays= df_flights.select('Marketing_Airline_Network','ArrDelay')"
   ]
  },
  {
   "cell_type": "code",
   "execution_count": 143,
   "metadata": {},
   "outputs": [
    {
     "name": "stdout",
     "output_type": "stream",
     "text": [
      "P-Value: 0.0\n",
      "F-Statistic 1053.5880536412155\n"
     ]
    }
   ],
   "source": [
    "# Perform ANOVA\n",
    "# Import necessary library\n",
    "from scipy.stats import f_oneway\n",
    "import pandas as pd\n",
    "\n",
    "# Collect a sample of the pyspark dataframe in a pandas dataframe\n",
    "df_pandas= df_airline_delays.sample(False, 0.1).toPandas() \n",
    "\n",
    "# Groups by airline \n",
    "groups= [df_pandas['ArrDelay'][df_pandas['Marketing_Airline_Network'] == airline] for airline in df_pandas['Marketing_Airline_Network'].unique()]\n",
    "\n",
    "# perform one-way ANOVA test\n",
    "f_stat, p_value= f_oneway(*groups)\n",
    "\n",
    "print(f'P-Value: {p_value}')\n",
    "print(f'F-Statistic {f_stat}')"
   ]
  },
  {
   "cell_type": "markdown",
   "metadata": {},
   "source": [
    "The p-value is an indicator that the null hypothesis can be refuted. A p-value of 0.0, as noted elsewhere, may indicate that it is very small and has been rounded to 0.0 for ease of presentation. This suggests that there are significant differences in delays between airlines.\n",
    "\n",
    "The F-statistic measures the ratio of between-group variance to within-group variance. A higher value indicates that the average values of some groups differ more than the values in the group itself. The F-statistic therefore means that not all group averages are equal. \n",
    "\n",
    "An F-statistic with a value of 1005.4 is very high, which fits the p-value. This supports the idea that the ratios of delays are not the same.\n",
    "\n",
    "To get a better idea what this means. I want to show the proportions of delays by the corresponding airline.\n"
   ]
  },
  {
   "cell_type": "code",
   "execution_count": 144,
   "metadata": {},
   "outputs": [
    {
     "name": "stdout",
     "output_type": "stream",
     "text": [
      "+-------------------------+----------+-------------+-------------------+\n",
      "|Marketing_Airline_Network|Num_Delays|total_flights|  proportion_delays|\n",
      "+-------------------------+----------+-------------+-------------------+\n",
      "|                       B6|    338127|      1098362| 0.3078465933817812|\n",
      "|                       G4|    138238|       449977| 0.3072112574642704|\n",
      "|                       F9|    173578|       575147| 0.3017976273891718|\n",
      "|                       NK|    204859|       848118|0.24154539816393475|\n",
      "|                       VX|      3440|        14255|0.24131883549631708|\n",
      "|                       WN|   1181708|      5210031|0.22681400552127234|\n",
      "|                       UA|   1266402|      5657685| 0.2238374883013105|\n",
      "|                       AA|   1697221|      7716510| 0.2199467116611007|\n",
      "|                       AS|    316860|      1598109|  0.198271832522062|\n",
      "|                       HA|     55061|       289961|0.18989105431420086|\n",
      "|                       DL|   1096254|      6674517|0.16424469366097952|\n",
      "+-------------------------+----------+-------------+-------------------+\n",
      "\n"
     ]
    }
   ],
   "source": [
    "# import necesarry libraries\n",
    "from pyspark.sql import functions as F\n",
    "\n",
    "# Prepare the data -> add a column to indicate that the flight is delayed\n",
    "df_delayed= df_airline_delays.withColumn('Delayed', F.when(F.col('ArrDelay')>0, 1).otherwise(0))\n",
    "\n",
    "proportions= df_delayed.groupBy('Marketing_Airline_Network').agg(F.sum('Delayed').alias('Num_Delays'), F.count('*').alias('total_flights')).withColumn('proportion_delays', (F.col('Num_Delays')/F.col('total_flights')))\n",
    "\n",
    "# Sort propotions\n",
    "proportions_sorted= proportions.sort(F.desc('proportion_delays'))\n",
    "\n",
    "proportions_sorted.show()"
   ]
  },
  {
   "cell_type": "markdown",
   "metadata": {},
   "source": [
    "According to the table above, almost every third flight is late for airlines B6, G4 and F9. In contrast, the airline with the identifier DL is the one with the fewest delayed flights."
   ]
  },
  {
   "cell_type": "markdown",
   "metadata": {},
   "source": [
    "#### Seasonality of Flights"
   ]
  },
  {
   "cell_type": "markdown",
   "metadata": {},
   "source": [
    "In the following section, I would like to analyse whether there is any seasonality in the number of flights. Therefore I will create a dataframe, that shows the number of flights grouped by year and month."
   ]
  },
  {
   "cell_type": "code",
   "execution_count": 87,
   "metadata": {},
   "outputs": [
    {
     "name": "stdout",
     "output_type": "stream",
     "text": [
      "+-----+----------+-------------+\n",
      "|month|Num_Delays|total_flights|\n",
      "+-----+----------+-------------+\n",
      "|    1|    580860|      2851974|\n",
      "|    2|    579095|      2620049|\n",
      "|    3|    597126|      3004921|\n",
      "|    4|    547847|      2636380|\n",
      "|    5|    466842|      2222882|\n",
      "|    6|    604211|      2283741|\n",
      "|    7|    626876|      2502145|\n",
      "|    8|    602189|      2508962|\n",
      "|    9|    391251|      2361761|\n",
      "|   10|    457652|      2437031|\n",
      "|   11|    440690|      2353550|\n",
      "|   12|    577109|      2349276|\n",
      "+-----+----------+-------------+\n",
      "\n"
     ]
    }
   ],
   "source": [
    "df_flights_seasonality= df_flights.select('year', 'month', 'ArrDelay')\n",
    "\n",
    "# Set define variable to indicated delayed flights\n",
    "df_flights_seasonality= df_flights_seasonality.withColumn('delayed', F.when(F.col('ArrDelay')>0,1).otherwise(0))\n",
    "\n",
    "# Group by 'month' and aggregate data:\n",
    "# sum of 'delayed' column to get the total number of delayed flights per month\n",
    "# count all rows to get the total number of flights per month\n",
    "# rename these aggregated columns as 'Num_Delays' and 'total_flights'\n",
    "monthly_trends = df_flights_seasonality.groupBy('month').agg(F.sum('delayed').alias('Num_Delays'),F.count('*').alias('total_flights'))\n",
    "\n",
    "# Sort the aggregated DataFrame `monthly_trends` by the 'month' column in ascending order\n",
    "monthly_trends_sorted = monthly_trends.sort('month')\n",
    "\n",
    "# show the dataframe\n",
    "monthly_trends_sorted.show()"
   ]
  },
  {
   "cell_type": "code",
   "execution_count": 88,
   "metadata": {},
   "outputs": [
    {
     "name": "stdout",
     "output_type": "stream",
     "text": [
      "+-----+----------+-------------+\n",
      "|month|Num_Delays|total_flights|\n",
      "+-----+----------+-------------+\n",
      "|    3|    597126|      3004921|\n",
      "|    1|    580860|      2851974|\n",
      "|    4|    547847|      2636380|\n",
      "|    2|    579095|      2620049|\n",
      "|    8|    602189|      2508962|\n",
      "|    7|    626876|      2502145|\n",
      "|   10|    457652|      2437031|\n",
      "|    9|    391251|      2361761|\n",
      "|   11|    440690|      2353550|\n",
      "|   12|    577109|      2349276|\n",
      "|    6|    604211|      2283741|\n",
      "|    5|    466842|      2222882|\n",
      "+-----+----------+-------------+\n",
      "\n"
     ]
    }
   ],
   "source": [
    "# shows the data frame sorted by the total number of flights\n",
    "monthly_trends_sorted_total_flights= monthly_trends.sort(F.col('total_flights').desc())\n",
    "monthly_trends_sorted_total_flights.show()"
   ]
  },
  {
   "cell_type": "code",
   "execution_count": 89,
   "metadata": {},
   "outputs": [
    {
     "name": "stdout",
     "output_type": "stream",
     "text": [
      "+-----+----------+-------------+\n",
      "|month|Num_Delays|total_flights|\n",
      "+-----+----------+-------------+\n",
      "|    7|    626876|      2502145|\n",
      "|    6|    604211|      2283741|\n",
      "|    8|    602189|      2508962|\n",
      "|    3|    597126|      3004921|\n",
      "|    1|    580860|      2851974|\n",
      "|    2|    579095|      2620049|\n",
      "|   12|    577109|      2349276|\n",
      "|    4|    547847|      2636380|\n",
      "|    5|    466842|      2222882|\n",
      "|   10|    457652|      2437031|\n",
      "|   11|    440690|      2353550|\n",
      "|    9|    391251|      2361761|\n",
      "+-----+----------+-------------+\n",
      "\n"
     ]
    }
   ],
   "source": [
    "# shows the data frame sorted by the total number of flights\n",
    "monthly_trends_sorted_delays= monthly_trends.sort(F.col('Num_Delays').desc())\n",
    "monthly_trends_sorted_delays.show()"
   ]
  },
  {
   "cell_type": "markdown",
   "metadata": {},
   "source": [
    "I have displayed three tables sorted differently. First chronologically by month, then by total number of flights and finally by number of delays. \n",
    "\n",
    "It is therefore interesting to see that in general the months of March, January, April and February are the months in which the most flights take place. Based on the previous analyses, I would have expected that these would also be the months with the highest number of delays. However, these are the months of July, June, August and March. Thus, only March can be identified as the month in which, among other things, the most flights take off, but also the most flights land late.\n",
    "\n",
    "Lets have a look at the seasonality over the years."
   ]
  },
  {
   "cell_type": "code",
   "execution_count": 90,
   "metadata": {},
   "outputs": [
    {
     "name": "stdout",
     "output_type": "stream",
     "text": [
      "+----+-----+-------------------+-----------------+\n",
      "|Year|Month|num_delayed_flights|num_total_flights|\n",
      "+----+-----+-------------------+-----------------+\n",
      "|2018|    1|             107795|           512703|\n",
      "|2018|    2|             107039|           468544|\n",
      "|2018|    3|             107716|           535421|\n",
      "|2018|    4|             112892|           534611|\n",
      "|2018|    5|             129039|           553672|\n",
      "|2018|    6|             146600|           556726|\n",
      "|2018|    7|             153731|           573694|\n",
      "|2018|    8|             156633|           568087|\n",
      "|2018|    9|             104357|           533820|\n",
      "|2018|   10|             111921|           550900|\n",
      "|2018|   11|             123353|           518314|\n",
      "|2018|   12|             120488|           532064|\n",
      "|2019|    1|             117144|           521565|\n",
      "|2019|    2|             132709|           469973|\n",
      "|2019|    3|             116948|           567828|\n",
      "|2019|    4|             117645|           555919|\n",
      "|2019|    5|             137175|           573422|\n",
      "|2019|    6|             167905|           566131|\n",
      "|2019|    7|             148265|           597202|\n",
      "|2019|    8|             146186|           597985|\n",
      "|2019|    9|              92475|           561636|\n",
      "|2019|   10|             115688|           580126|\n",
      "|2019|   11|              95644|           553651|\n",
      "|2019|   12|             139669|           562204|\n",
      "|2020|    1|              92164|           564196|\n",
      "|2020|    2|              93744|           534644|\n",
      "|2020|    3|              58557|           518431|\n",
      "|2020|    4|               9477|           181148|\n",
      "|2020|    5|               8339|           165809|\n",
      "|2020|    6|              15945|           210361|\n",
      "|2020|    7|              31524|           323989|\n",
      "|2020|    8|              30793|           349252|\n",
      "|2020|    9|              21497|           306217|\n",
      "|2020|   10|              31339|           324325|\n",
      "|2020|   11|              29470|           337388|\n",
      "|2020|   12|              46105|           332363|\n",
      "|2021|    1|              36949|           328950|\n",
      "|2021|    2|              48833|           282652|\n",
      "|2021|    3|              47011|           400440|\n",
      "|2021|    4|              50043|           409936|\n",
      "+----+-----+-------------------+-----------------+\n",
      "only showing top 40 rows\n",
      "\n"
     ]
    }
   ],
   "source": [
    "df_overview= df_flights_seasonality.groupBy('Year','Month').agg(F.sum('delayed').alias('num_delayed_flights'), F.count('*').alias('num_total_flights'))\n",
    "\n",
    "df_overview= df_overview.sort('year','month')\n",
    "df_overview.show(40)"
   ]
  },
  {
   "cell_type": "code",
   "execution_count": 91,
   "metadata": {
    "scrolled": false
   },
   "outputs": [
    {
     "data": {
      "image/png": "[encoded data removed]",
      "text/plain": [
       "<Figure size 1080x432 with 1 Axes>"
      ]
     },
     "metadata": {
      "needs_background": "light"
     },
     "output_type": "display_data"
    }
   ],
   "source": [
    "# import necessary libraries\n",
    "import matplotlib.pyplot as plt\n",
    "import pandas as pd\n",
    "\n",
    "# convert pyspark dataframe to pandas dataframe\n",
    "df_pandas= df_overview.toPandas()\n",
    "# create a date column with the 'year' and 'month column'\n",
    "df_pandas['date']= df_pandas['Year'].astype(str)+ '-' +df_pandas['Month'].astype(str)\n",
    "# set the new data column as index\n",
    "df_pandas.set_index('date', inplace= True)\n",
    "\n",
    "# initalize figure in size 15x6\n",
    "plt.figure(figsize= (15,6))\n",
    "\n",
    "# plot the number of total flights per month/year\n",
    "plt.plot(df_pandas.index, df_pandas['num_total_flights'], label='Total Flights', marker='o')\n",
    "# plot the number of delays per month/year\n",
    "plt.plot(df_pandas.index, df_pandas['num_delayed_flights'], label='Number of Delays', marker='o')\n",
    "\n",
    "# set x-axis label rotation by 45 defgrees for better readability\n",
    "plt.xticks(rotation=45)\n",
    "# set y-axis label\n",
    "plt.ylabel('Count')\n",
    "# define title for chart\n",
    "plt.title('Total Flights vs. Number of Delays per Month/Year')\n",
    "# displaying a legend for the chart\n",
    "plt.legend()\n",
    "# adjusting layout, that all labels titles fit in\n",
    "plt.tight_layout()\n",
    "# define the line style for the grid to increase readability\n",
    "plt.grid(True, which='both', linestyle='--', linewidth=0.5)\n",
    "# show chart\n",
    "plt.show()"
   ]
  },
  {
   "cell_type": "markdown",
   "metadata": {},
   "source": [
    "I have decided to use a graph at this point as it is very helpful to quickly identify visual trends. Of course, \"the Corona year\" jumps to the eye as there is a significant drop in the total number of flights and the subsequent \"normalisation\" of the airline industry. \n",
    "\n",
    "If you look at the graph a little longer, you can see an increase in the summer months and a decrease in especially in the month of January.\n",
    "\n",
    "So a pattern in the seasonality of flights could be noticed. The line representing the delays is mirror the movement of the upper line. This shows the linearity of flights and delays again."
   ]
  },
  {
   "cell_type": "markdown",
   "metadata": {},
   "source": [
    "## Hypothesis III - Influence Due to Delays Caused by Bad Weather"
   ]
  },
  {
   "cell_type": "markdown",
   "metadata": {},
   "source": [
    "In this section I would like to discuss delays caused by bad weather. It is important to note that the dataset only contains flights that are on time or delayed. Flights that did not take place are not included. This leads to the assumption that in the data represented here, the weather conditions before the start of a flight could not have been so bad that the flight had to be cancelled or that this led to dramatic delays. The following columns store information about delays:"
   ]
  },
  {
   "cell_type": "code",
   "execution_count": 145,
   "metadata": {},
   "outputs": [
    {
     "name": "stdout",
     "output_type": "stream",
     "text": [
      "DepDelay\n",
      "DepDelayMinutes\n",
      "ArrDelay\n",
      "ArrDelayMinutes\n",
      "CarrierDelay\n",
      "WeatherDelay\n",
      "NASDelay\n",
      "SecurityDelay\n",
      "LateAircraftDelay\n"
     ]
    }
   ],
   "source": [
    "delay_columns= [col for col in df_flights.columns if 'delay' in col.lower()]\n",
    "for column in delay_columns:\n",
    "    print(column)"
   ]
  },
  {
   "cell_type": "markdown",
   "metadata": {},
   "source": [
    "In the output above, all columns are displayed that have something to do with \"delay\". The columns with DepDelay, DepDelayMinutes, ArrDelay, ArrDelayMinutes have already been addressed. The focus will be specifically on the following columns:\n",
    "- CarrierDelay\n",
    "- WeatherDelay\n",
    "- NASDelay\n",
    "- SecurityDelay\n",
    "- LateAircraftDelay"
   ]
  },
  {
   "cell_type": "markdown",
   "metadata": {},
   "source": [
    "Based on the information, the main hypothesis is that bad weather conditions have the least impact on flight delays. The alternative hypothesis is: Delay is significantly influenced by bad weather conditions.\n",
    "It should be noted that \"bad weather conditions\" manifest themselves in the form of a greater delay due to the corresponding delay caused by the weather.\n",
    "\n",
    "This leads to the subordinate hypothesis that high delays can be derived from a combination of external factors. The alternative hypothesis is that high delays are due to an external factor.\n",
    "\n",
    "For the technical implementation, I will adjust the structure of the data and use a linear regression model to check how the individual delay types influence the arrival delay. Using the model, I can query the P-values to check the statistical relevance of the delay types. I then perform a statistical descriptive analysis to determine the average values of each delay, as well as the median value. These values can be used to determine how strongly the individual factors, including external factors, influence a delay.\n"
   ]
  },
  {
   "cell_type": "code",
   "execution_count": 93,
   "metadata": {},
   "outputs": [],
   "source": [
    "# Import required Libs\n",
    "from pyspark.sql.functions import explode, array, struct,lit, col\n",
    "\n",
    "\n",
    "# Store columnnames of delays for latter usage\n",
    "delay_columns= ['CarrierDelay', 'WeatherDelay', 'NASDelay', 'SecurityDelay', 'LateAircraftDelay']\n",
    "\n",
    "# reorder data to have two columns storing the type of delay and delay itself\n",
    "exprs= explode(array([\n",
    "    struct(lit(c).alias('DelayType'), col(c).alias('DelayValue'))\n",
    "    for c in delay_columns])).alias('exploded')\n",
    "\n",
    "reshaped_data= df_flights.select(exprs).select('exploded.*')"
   ]
  },
  {
   "cell_type": "code",
   "execution_count": 62,
   "metadata": {},
   "outputs": [
    {
     "name": "stdout",
     "output_type": "stream",
     "text": [
      "P-values for delay types: [0.0, 0.0, 0.0, 0.0, 0.0]\n",
      "Time needed483.88009762763977\n"
     ]
    }
   ],
   "source": [
    "# run linear regression with reshaped data\n",
    "# import necessary libs\n",
    "import time\n",
    "from pyspark.ml.feature import StringIndexer, OneHotEncoder, VectorAssembler\n",
    "from pyspark.ml.regression import LinearRegression\n",
    "from pyspark.ml import Pipeline\n",
    "\n",
    "# Recording time to check time which is needed for execution\n",
    "start_time= time.time()\n",
    "\n",
    "# Indexing the categorical variable\n",
    "indexer = StringIndexer(inputCol=\"DelayType\", outputCol=\"DelayTypeIndex\")\n",
    "\n",
    "# One hot encoding\n",
    "encoder = OneHotEncoder(inputCols=[\"DelayTypeIndex\"], outputCols=[\"DelayTypeVec\"])\n",
    "\n",
    "# Assembling the features\n",
    "assembler = VectorAssembler(inputCols=[\"DelayTypeVec\"], outputCol=\"features\")\n",
    "\n",
    "# Linear regression\n",
    "lr = LinearRegression(featuresCol=\"features\", labelCol=\"DelayValue\")\n",
    "\n",
    "# Defining the Pipeline\n",
    "pipline= Pipeline(stages=[indexer, encoder, assembler, lr])\n",
    "\n",
    "# Fitting the model\n",
    "pipline_model= pipline.fit(reshaped_data)\n",
    "\n",
    "# Fetching th LR Model from the Pipline to get model summary\n",
    "lr_model= pipline_model.stages[-1]\n",
    "summary= lr_model.summary\n",
    "\n",
    "end_time= time.time()\n",
    "\n",
    "print(f'P-values for delay types: {summary.pValues}')\n",
    "\n",
    "print(f'Time needed: {end_time - start_time} seconds.')"
   ]
  },
  {
   "cell_type": "markdown",
   "metadata": {},
   "source": [
    "The fact that all p-values are presented as 0.0 means that all delays are statistically relevant predictors in the model. This means that each individual delay type contributes significantly to the total delay of a flight."
   ]
  },
  {
   "cell_type": "code",
   "execution_count": 60,
   "metadata": {},
   "outputs": [
    {
     "name": "stdout",
     "output_type": "stream",
     "text": [
      "F-value: 75246.2961573213\n",
      "P-value: 0.0\n"
     ]
    }
   ],
   "source": [
    "# Sample 20% of the data\n",
    "sampled_df = df_flights.sample(False, 0.2)\n",
    "pdf_sampled = sampled_df.select('CarrierDelay', 'WeatherDelay', 'NASDelay', 'SecurityDelay', 'LateAircraftDelay').toPandas()\n",
    "\n",
    "f_val, p_val = stats.f_oneway(pdf_sampled['CarrierDelay'], pdf_sampled['WeatherDelay'], pdf_sampled['NASDelay'], pdf_sampled['SecurityDelay'], pdf_sampled['LateAircraftDelay'])\n",
    "\n",
    "print(f\"F-value: {f_val}\")\n",
    "print(f\"P-value: {p_val}\")"
   ]
  },
  {
   "cell_type": "markdown",
   "metadata": {},
   "source": [
    "The extremely high F-value of 75'246.29 of the one-way ANOVA test shows that there are strong differences in the averages of the respective delay groups.  The p-value indicates that this difference is statistically relevant. This means that there is a significant difference in the average value for at least one type of delay."
   ]
  },
  {
   "cell_type": "markdown",
   "metadata": {},
   "source": [
    "Unfortunately, these analyses do not yet give me any explicit information to answer my hypothesis. On the current point, I can say that all types of delay have a significant influence on the total delay and that there is one group of delays that has a significantly different average value than the other groups. Therefore, I will first look at the average values of the respective groups and then conduct a two-sided T-test to determine the exact role of the weather."
   ]
  },
  {
   "cell_type": "code",
   "execution_count": 66,
   "metadata": {},
   "outputs": [
    {
     "name": "stdout",
     "output_type": "stream",
     "text": [
      "+--------------------+-------------------+\n",
      "|average CarrierDelay|median CarrierDelay|\n",
      "+--------------------+-------------------+\n",
      "|   5.050472623204474|                0.0|\n",
      "+--------------------+-------------------+\n",
      "\n",
      "+--------------------+-------------------+\n",
      "|average WeatherDelay|median WeatherDelay|\n",
      "+--------------------+-------------------+\n",
      "|  0.8417200107577583|                0.0|\n",
      "+--------------------+-------------------+\n",
      "\n",
      "+------------------+---------------+\n",
      "|  average NASDelay|median NASDelay|\n",
      "+------------------+---------------+\n",
      "|2.9941116738668248|            0.0|\n",
      "+------------------+---------------+\n",
      "\n",
      "+---------------------+--------------------+\n",
      "|average SecurityDelay|median SecurityDelay|\n",
      "+---------------------+--------------------+\n",
      "| 0.027410878132546626|                 0.0|\n",
      "+---------------------+--------------------+\n",
      "\n",
      "+-------------------------+------------------------+\n",
      "|average LateAircraftDelay|median LateAircraftDelay|\n",
      "+-------------------------+------------------------+\n",
      "|        5.522570052864877|                     0.0|\n",
      "+-------------------------+------------------------+\n",
      "\n"
     ]
    }
   ],
   "source": [
    "# Descriptive Analysis\n",
    "from pyspark.sql.functions import avg,expr\n",
    "\n",
    "delay_types= ['CarrierDelay', 'WeatherDelay', 'NASDelay', 'SecurityDelay', 'LateAircraftDelay']\n",
    "\n",
    "for delay in delay_types:\n",
    "    df_flights.select(avg(delay).alias(f'average {delay}'), expr(f'percentile({delay}, 0.5)').alias(f'median {delay}')).show()\n"
   ]
  },
  {
   "cell_type": "code",
   "execution_count": 148,
   "metadata": {},
   "outputs": [],
   "source": [
    "# Stop spark session\n",
    "spark_session.stop()"
   ]
  },
  {
   "cell_type": "markdown",
   "metadata": {},
   "source": [
    "The above list shows the average delays of the respective delay type, as well as the corresponding median value. Each list shows a median value of 0.0, which allows conclusions to be drawn about the distribution of the data and means that in each delay category slightly more than every second value is 0, or the corresponding delay type is not present.\n",
    "\n",
    "Furthermore, it can be seen that the CarrierDelay and LateAircraftDelay have the highest average values. On the other hand, the average value of WeatherDelay is relatively low. This partly supports the hypothesis that delays caused by the least have the smallest influence on the total delay. Only partially, because SecurityDelay has the lowest average value.\n",
    "\n",
    "It can therefore be concluded that the hypothesis can neither be accepted nor rejected. Since the weather does not have the slightest influence on the delay of an aircraft. Nevertheless, the delay caused by bad weather is very small in this dataset. \n",
    "\n",
    "Regarding the sub-hypothesis, it can be said that the external factors CarreierDelay and LateAircraftDelay are the biggest drivers of a high arrival delay."
   ]
  },
  {
   "cell_type": "markdown",
   "metadata": {},
   "source": [
    "# Summary and Conclusion"
   ]
  },
  {
   "cell_type": "markdown",
   "metadata": {},
   "source": [
    "## Instruction and Goals\n",
    "\n",
    "The project was an exciting journey to understand the intricacies of flight delays. The main objectives were to identify patterns, dependencies and key drivers of delay. With a comprehensive data set covering different aspects of a flight and also meeting the requirements of a big data analysis, it made it possible to generate exciting hypotheses.  The main hypothesis revolved around delays and how they affect the arrival times of a flight.  The other hypothesis dealt with the linearity of delays and their drivers."
   ]
  },
  {
   "cell_type": "markdown",
   "metadata": {},
   "source": [
    "## Analysis Overview"
   ]
  },
  {
   "cell_type": "markdown",
   "metadata": {},
   "source": [
    "I used pyspark's capabilities and the computational power of a distributed system to efficiently process and analyze a large amount of data. The arrival delay, as well as variables such as 'CarrierDelay', 'WeatherDelay', 'NASDelay', 'SecurityDelay', and 'LateAircraftDelay' played a major role. A number of efforts have been made to analyze and understand the relationships and effects of this information.\n",
    "\n",
    "The project took a mainly analytical approach, starting with exploratory data analysis, descriptive statistics and the use of analysis of variance (ANOVA). I also discovered the possibility of using linerar regression models to shed light on the relationships between variables."
   ]
  },
  {
   "cell_type": "markdown",
   "metadata": {},
   "source": [
    "## Challenges"
   ]
  },
  {
   "cell_type": "markdown",
   "metadata": {},
   "source": [
    "From my point of view, the challenges were mainly technical implementation. Working with a large data set and on a distributed system forced me to rethink my approach because I often encountered storage errors. This made me realize that I had to approach it differently, even if I was working with \"dataframes\", which had nothing to do with the classic pandas dataframe. Some operations that were easily possible with the Pandas library, for example, were not so easy to implement in Pyspark and a rethink was required.\n",
    "\n",
    "From a data perspective, it was suboptimal that parts of the data were already aggregated, such as the variable 'WeatherDelay'. It would have been very exciting, for example, to spot differences in the weather and how these affect delays."
   ]
  },
  {
   "cell_type": "markdown",
   "metadata": {},
   "source": [
    "## Results and Discussions"
   ]
  },
  {
   "cell_type": "markdown",
   "metadata": {},
   "source": [
    "Depature vs. Arrival Delays: The first hypothesis could be refuted. Departure delays have a significant impact on arrival delays. Although some of the departure delays can be made up for, it is clear that a departure delay will very likely lead to a delay in arrival.\n",
    "    \n",
    "    \n",
    "Linearity of Delays: I was also able to determine that flight delays behave in a linear manner. Simply put, this means that a large number of flights are experiencing increased delays. However, this does not mean that relatively speaking, there will be significantly more delays when there is a very high volume of flights than when there are fewer flights.\n",
    "    \n",
    "    \n",
    "Wather Delays and External Factors: In this dataset, weather was not a primary driver of delays. The dataset only included delayed flights and no canceled flights, so weather, for example, was ignored as a criterion for canceling a flight. This means that the weather conditions must have been acceptable during the delay and therefore the weather only played a minor role. A delayed plane from the previous flight or delays caused by the airline have significantly increased the delay in arrival time.\n",
    "\n"
   ]
  },
  {
   "cell_type": "markdown",
   "metadata": {},
   "source": [
    "## Summary\n",
    "\n",
    "The project gave me a deep insight into the interwoven network of flight delays. It was able to successfully shed light on the field of delays and shed light on the connections. It also demonstrated PySpark's ability to process large amounts of data efficiently and quickly.\n",
    "\n",
    "In summary, it can be said that the project clearly demonstrated the possibilities of 'big data' and the role that distributed networks play in this. I will be able to put the skills I have acquired into practical use and will also be able to broaden my horizons in analyzing data."
   ]
  },
  {
   "cell_type": "markdown",
   "metadata": {},
   "source": [
    "# References\n",
    "\n",
    "[1] History of Flight, URL: “https://www.grc.nasa.gov/www/k-12/UEET/StudentSite/historyofflight.html#:~:text=The%20first%20manned%20flight%20was,de%20Rozier%20and%20Francois%20Laurent.&text=George%20Cayley%20worked%20to%20discover,of%20the%20body%20to%20control.”; visited 23/08/23\n",
    "\n",
    "[2] Travel & Safery, International Air Transportation Association; URL: https://www.iata.org/en/youandiata/travelers/aviation-safety/; visited 23/08/23\n",
    "\n",
    "[3] Number of Flights Worldwide in 2022/2023: Passenger Traffic, Behaviors, and Revenue, FinancesOnline – Reviews For Business; URL: https://financesonline.com/number-of-flights-worldwide/ ; Visited: 23/08/23\n",
    "\n",
    "[4] Kaggle, Flight Delay -US Flight Delays: Arrival & Depature for Analysis and ML Modeling; URL: https://www.kaggle.com/datasets/arvindnagaonkar/flight-delay ; visited and downloaded: 23/08/23\n",
    "\n",
    "[5] Apache Parquet, Motivation; URL: https://parquet.apache.org/docs/overview/motivation/ ; visited 24/08/23\n",
    "\n",
    "[6] Bureau of Transportation Statistics, About the Bureau of Transportation Statistics; URL: https://www.bts.dot.gov/about-BTS ; Last update of site: 26/02/2019, visited: 24/08/2023\n",
    "\n",
    "[7] Creative Commons, CC0 1.0 Universal (CC0 1.0) - Public Domain Dedication; URL: https://creativecommons.org/publicdomain/zero/1.0/; visited 24/08/23\n",
    "\n",
    "[8] Kaggle – Flight Delay: About Dataset; URL: https://www.kaggle.com/datasets/arvindnagaonkar/flight-delay, visited: 24/08/23"
   ]
  }
 ],
 "metadata": {
  "kernelspec": {
   "display_name": "PySpark",
   "language": "python",
   "name": "pyspark"
  },
  "language_info": {
   "codemirror_mode": {
    "name": "ipython",
    "version": 3
   },
   "file_extension": ".py",
   "mimetype": "text/x-python",
   "name": "python",
   "nbconvert_exporter": "python",
   "pygments_lexer": "ipython3",
   "version": "3.8.5"
  }
 },
 "nbformat": 4,
 "nbformat_minor": 4
}
